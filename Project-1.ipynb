{
 "cells": [
  {
   "cell_type": "markdown",
   "metadata": {},
   "source": [
    "## Predicting Credit Card Behavior in United States using NFCS Data"
   ]
  },
  {
   "cell_type": "markdown",
   "metadata": {},
   "source": [
    "## Introduction and Background"
   ]
  },
  {
   "cell_type": "markdown",
   "metadata": {},
   "source": [
    "## Data Description\n"
   ]
  },
  {
   "cell_type": "markdown",
   "metadata": {},
   "source": [
    "This short paper will help to predict the credit card behavior based on demographic and household characteristics in the United States. Demographic indicators such as age, gender, marital status, financial literacy, education and profession along with household characteristics such as household income state and region of residence will be used to predict the credit card behavior. These variables play might play crucial role in determining the credit card behavior of any individual. This result of this analysis might be useful for banks and other financial institutions as well as for Government to devise credit policy in the different regions based on the credit card behavior of the population.\n"
   ]
  },
  {
   "cell_type": "markdown",
   "metadata": {},
   "source": [
    "## Problem Statement"
   ]
  },
  {
   "cell_type": "markdown",
   "metadata": {},
   "source": [
    "Individuals are different and exhibit diverse behaviors, however a general prediction model could be used to asses one's behavior. Global financial crisis of 2007-2008 is greatly considered as a result of subprime mortgage loans in the United States. In addition, a huge amount of credit card payments goes pending every month in the US. While credit card debt has increase around 32% in the last five years. Therefore, to avoid future banking crisis, it is important to devise a mechanism that can predict the credit card behavior of the potential user."
   ]
  },
  {
   "cell_type": "markdown",
   "metadata": {},
   "source": [
    "## Data Description"
   ]
  },
  {
   "cell_type": "markdown",
   "metadata": {},
   "source": [
    "In this research I will use an open source dataset 'The National Financial Capability Study' (NFCS) provided by FINRA. This dataset is a primary data collected from the US citizens with an interval of three years. The first round of survey was conducted in the year of 2009 following the Global financial turmoil. Later on, second round was conducted in 2012, third in 2015 and most recent survey was conducted in 2018. More detail of the dataset can be found [here](https://www.usfinancialcapability.org/) and can be downloaded [here](https://www.usfinancialcapability.org/downloads.php). This dataset includes a wide range of financial, demographic and professional indicators of American Citizens from all the regions and states."
   ]
  },
  {
   "cell_type": "code",
   "execution_count": 1,
   "metadata": {},
   "outputs": [],
   "source": [
    "##Importing libraries\n",
    "\n",
    "from sklearn.preprocessing import StandardScaler\n",
    "from sklearn.cluster import KMeans\n",
    "from itertools import cycle, islice\n",
    "import matplotlib.pyplot as plt\n",
    "import pandas as pd\n",
    "import numpy as np\n",
    "from pandas.plotting import parallel_coordinates\n",
    "\n",
    "%matplotlib inline"
   ]
  },
  {
   "cell_type": "code",
   "execution_count": 2,
   "metadata": {},
   "outputs": [],
   "source": [
    "path ='/Users/rizwanmushtaq/Desktop/Data_Science/Python_Tutorial/NFCS2018_09_19.csv'\n"
   ]
  },
  {
   "cell_type": "code",
   "execution_count": 3,
   "metadata": {},
   "outputs": [],
   "source": [
    "df1 = pd.read_csv(path, dtype= 'unicode', decimal=',')\n"
   ]
  },
  {
   "cell_type": "code",
   "execution_count": 4,
   "metadata": {},
   "outputs": [
    {
     "data": {
      "text/html": [
       "<div>\n",
       "<style scoped>\n",
       "    .dataframe tbody tr th:only-of-type {\n",
       "        vertical-align: middle;\n",
       "    }\n",
       "\n",
       "    .dataframe tbody tr th {\n",
       "        vertical-align: top;\n",
       "    }\n",
       "\n",
       "    .dataframe thead th {\n",
       "        text-align: right;\n",
       "    }\n",
       "</style>\n",
       "<table border=\"1\" class=\"dataframe\">\n",
       "  <thead>\n",
       "    <tr style=\"text-align: right;\">\n",
       "      <th></th>\n",
       "      <th>TRACK</th>\n",
       "      <th>NFCSID</th>\n",
       "      <th>STATEQ</th>\n",
       "      <th>CENSUSDIV</th>\n",
       "      <th>CENSUSREG</th>\n",
       "      <th>A3</th>\n",
       "      <th>A3Ar_w</th>\n",
       "      <th>A3B</th>\n",
       "      <th>A4A_new_w</th>\n",
       "      <th>A5_2015</th>\n",
       "      <th>...</th>\n",
       "      <th>M21_4</th>\n",
       "      <th>M6</th>\n",
       "      <th>M7</th>\n",
       "      <th>M8</th>\n",
       "      <th>M31</th>\n",
       "      <th>M9</th>\n",
       "      <th>M10</th>\n",
       "      <th>wgt_n2</th>\n",
       "      <th>wgt_d2</th>\n",
       "      <th>wgt_s3</th>\n",
       "    </tr>\n",
       "  </thead>\n",
       "  <tbody>\n",
       "    <tr>\n",
       "      <th>0</th>\n",
       "      <td>2018</td>\n",
       "      <td>2018010001</td>\n",
       "      <td>48</td>\n",
       "      <td>9</td>\n",
       "      <td>4</td>\n",
       "      <td>2</td>\n",
       "      <td>5</td>\n",
       "      <td>11</td>\n",
       "      <td>1</td>\n",
       "      <td>5</td>\n",
       "      <td>...</td>\n",
       "      <td></td>\n",
       "      <td>1</td>\n",
       "      <td>3</td>\n",
       "      <td>98</td>\n",
       "      <td>98</td>\n",
       "      <td>98</td>\n",
       "      <td>1</td>\n",
       "      <td>0.68368306</td>\n",
       "      <td>0.51964208</td>\n",
       "      <td>1.09518877</td>\n",
       "    </tr>\n",
       "    <tr>\n",
       "      <th>1</th>\n",
       "      <td>2018</td>\n",
       "      <td>2018010002</td>\n",
       "      <td>10</td>\n",
       "      <td>5</td>\n",
       "      <td>3</td>\n",
       "      <td>2</td>\n",
       "      <td>2</td>\n",
       "      <td>8</td>\n",
       "      <td>1</td>\n",
       "      <td>6</td>\n",
       "      <td>...</td>\n",
       "      <td></td>\n",
       "      <td>1</td>\n",
       "      <td>3</td>\n",
       "      <td>98</td>\n",
       "      <td>3</td>\n",
       "      <td>1</td>\n",
       "      <td>98</td>\n",
       "      <td>0.80835753</td>\n",
       "      <td>2.51684077</td>\n",
       "      <td>0.92269329</td>\n",
       "    </tr>\n",
       "    <tr>\n",
       "      <th>2</th>\n",
       "      <td>2018</td>\n",
       "      <td>2018010003</td>\n",
       "      <td>44</td>\n",
       "      <td>7</td>\n",
       "      <td>3</td>\n",
       "      <td>2</td>\n",
       "      <td>2</td>\n",
       "      <td>8</td>\n",
       "      <td>1</td>\n",
       "      <td>6</td>\n",
       "      <td>...</td>\n",
       "      <td></td>\n",
       "      <td>1</td>\n",
       "      <td>1</td>\n",
       "      <td>98</td>\n",
       "      <td>98</td>\n",
       "      <td>1</td>\n",
       "      <td>98</td>\n",
       "      <td>1.02155141</td>\n",
       "      <td>1.89619186</td>\n",
       "      <td>0.67109295</td>\n",
       "    </tr>\n",
       "    <tr>\n",
       "      <th>3</th>\n",
       "      <td>2018</td>\n",
       "      <td>2018010004</td>\n",
       "      <td>10</td>\n",
       "      <td>5</td>\n",
       "      <td>3</td>\n",
       "      <td>2</td>\n",
       "      <td>1</td>\n",
       "      <td>7</td>\n",
       "      <td>1</td>\n",
       "      <td>6</td>\n",
       "      <td>...</td>\n",
       "      <td></td>\n",
       "      <td>98</td>\n",
       "      <td>98</td>\n",
       "      <td>4</td>\n",
       "      <td>4</td>\n",
       "      <td>2</td>\n",
       "      <td>98</td>\n",
       "      <td>0.80835753</td>\n",
       "      <td>2.51684077</td>\n",
       "      <td>0.92269329</td>\n",
       "    </tr>\n",
       "    <tr>\n",
       "      <th>4</th>\n",
       "      <td>2018</td>\n",
       "      <td>2018010005</td>\n",
       "      <td>13</td>\n",
       "      <td>8</td>\n",
       "      <td>4</td>\n",
       "      <td>1</td>\n",
       "      <td>2</td>\n",
       "      <td>2</td>\n",
       "      <td>1</td>\n",
       "      <td>6</td>\n",
       "      <td>...</td>\n",
       "      <td></td>\n",
       "      <td>1</td>\n",
       "      <td>3</td>\n",
       "      <td>98</td>\n",
       "      <td>2</td>\n",
       "      <td>1</td>\n",
       "      <td>98</td>\n",
       "      <td>0.4480747</td>\n",
       "      <td>0.61473322</td>\n",
       "      <td>1.23222123</td>\n",
       "    </tr>\n",
       "  </tbody>\n",
       "</table>\n",
       "<p>5 rows × 112 columns</p>\n",
       "</div>"
      ],
      "text/plain": [
       "  TRACK      NFCSID STATEQ CENSUSDIV CENSUSREG A3 A3Ar_w A3B A4A_new_w  \\\n",
       "0  2018  2018010001     48         9         4  2      5  11         1   \n",
       "1  2018  2018010002     10         5         3  2      2   8         1   \n",
       "2  2018  2018010003     44         7         3  2      2   8         1   \n",
       "3  2018  2018010004     10         5         3  2      1   7         1   \n",
       "4  2018  2018010005     13         8         4  1      2   2         1   \n",
       "\n",
       "  A5_2015  ... M21_4  M6  M7  M8 M31  M9 M10      wgt_n2      wgt_d2  \\\n",
       "0       5  ...         1   3  98  98  98   1  0.68368306  0.51964208   \n",
       "1       6  ...         1   3  98   3   1  98  0.80835753  2.51684077   \n",
       "2       6  ...         1   1  98  98   1  98  1.02155141  1.89619186   \n",
       "3       6  ...        98  98   4   4   2  98  0.80835753  2.51684077   \n",
       "4       6  ...         1   3  98   2   1  98   0.4480747  0.61473322   \n",
       "\n",
       "       wgt_s3  \n",
       "0  1.09518877  \n",
       "1  0.92269329  \n",
       "2  0.67109295  \n",
       "3  0.92269329  \n",
       "4  1.23222123  \n",
       "\n",
       "[5 rows x 112 columns]"
      ]
     },
     "execution_count": 4,
     "metadata": {},
     "output_type": "execute_result"
    }
   ],
   "source": [
    "df1.head()"
   ]
  },
  {
   "cell_type": "code",
   "execution_count": 5,
   "metadata": {},
   "outputs": [
    {
     "data": {
      "text/plain": [
       "      53655\n",
       "5     24438\n",
       "4      9890\n",
       "3      8837\n",
       "2      6311\n",
       "98     2611\n",
       "1      2197\n",
       "99      371\n",
       "Name: J32, dtype: int64"
      ]
     },
     "execution_count": 5,
     "metadata": {},
     "output_type": "execute_result"
    }
   ],
   "source": [
    "df1['J32'].value_counts()"
   ]
  },
  {
   "cell_type": "code",
   "execution_count": 6,
   "metadata": {},
   "outputs": [],
   "source": [
    "#Renaming required columns\n",
    "df2 = df1.rename(columns={'A3':'gender','A3Ar_w':'agegrp', \"A3B\":\"agegen\",'A4A_new_w': \"ethn\", 'A5_2015':'edu' , 'A6':'marital' ,  'A7':'living',\n",
    "     'A7A':'maritalvar',  'A8':'hhincome' ,  'AM31':'retired' ,\n",
    "     'A9':'prof',  'A10':'profspouse', 'A21_2015':'ptimestudent',\n",
    "     'A22_2015':'currentstudent',  'M6':'interest', 'M7':'inflation',  'M8':'bond',  'M31':'cinterest', 'M9':'mortgage', 'M10':'risk',\n",
    "     'J1':'finsatisfacton',  'J2':'willingrisk', 'J3':'spendingincome',  'J5':'savingunforseen',  'J6':'savingchildedu',\n",
    "     'J32':'creditrecord', 'B14':'invest',  'E7':'homemort',  'E15_2015':'mortpayment',\n",
    "    'F2_1':'creditcardpayment', 'F2_3':'minpayment', 'F2_4':'latefee' ,'F2_5': 'limitfee' , 'G20':'unpaidbil' ,\n",
    "    'G25_2':'paydayloan' , 'G23':'toomuchdebt','M20': 'fineducschool' ,\n",
    "     'M21_1':'fineduchschool' ,\n",
    "    'M1_1':'finconfdaytoday' , 'M1_2':'finconf_math' ,  'A14':'mostknowledge' ,  'J20':'howconfident'}, errors=\"raise\")\n"
   ]
  },
  {
   "cell_type": "code",
   "execution_count": 7,
   "metadata": {},
   "outputs": [],
   "source": [
    "#Selecting required columns\n",
    "df3 = df2[['gender','agegrp', 'ethn', 'edu', 'marital', 'hhincome', 'retired',\n",
    "     'prof', 'profspouse','ptimestudent','currentstudent',  \n",
    "     'finsatisfacton',  'willingrisk', 'spendingincome', 'savingunforseen', 'savingchildedu',\n",
    "     'creditrecord', 'invest',  'homemort',  'mortpayment',\n",
    "    'creditcardpayment', 'minpayment', 'latefee', 'limitfee', 'unpaidbil',\n",
    "    'paydayloan', 'toomuchdebt', 'fineducschool',\n",
    "    'finconfdaytoday', 'finconf_math',  'mostknowledge',  'howconfident',\n",
    "    'interest', 'inflation', 'bond', 'cinterest', 'mortgage', 'risk']]"
   ]
  },
  {
   "cell_type": "code",
   "execution_count": 8,
   "metadata": {},
   "outputs": [],
   "source": [
    "##Replacing 99 and 98 with nan\n",
    "df3 = df3.replace('99', np.nan)\n",
    "df3 = df3.replace('98', np.nan)"
   ]
  },
  {
   "cell_type": "code",
   "execution_count": 9,
   "metadata": {},
   "outputs": [
    {
     "data": {
      "text/plain": [
       "(108310, 38)"
      ]
     },
     "execution_count": 9,
     "metadata": {},
     "output_type": "execute_result"
    }
   ],
   "source": [
    "#explore the number of columns and rows in the data\n",
    "df3.head()\n",
    "df3.shape"
   ]
  },
  {
   "cell_type": "code",
   "execution_count": 10,
   "metadata": {},
   "outputs": [
    {
     "data": {
      "text/html": [
       "<div>\n",
       "<style scoped>\n",
       "    .dataframe tbody tr th:only-of-type {\n",
       "        vertical-align: middle;\n",
       "    }\n",
       "\n",
       "    .dataframe tbody tr th {\n",
       "        vertical-align: top;\n",
       "    }\n",
       "\n",
       "    .dataframe thead th {\n",
       "        text-align: right;\n",
       "    }\n",
       "</style>\n",
       "<table border=\"1\" class=\"dataframe\">\n",
       "  <thead>\n",
       "    <tr style=\"text-align: right;\">\n",
       "      <th></th>\n",
       "      <th>gender</th>\n",
       "      <th>agegrp</th>\n",
       "      <th>ethn</th>\n",
       "      <th>edu</th>\n",
       "      <th>marital</th>\n",
       "      <th>hhincome</th>\n",
       "      <th>retired</th>\n",
       "      <th>prof</th>\n",
       "      <th>profspouse</th>\n",
       "      <th>ptimestudent</th>\n",
       "      <th>...</th>\n",
       "      <th>finconfdaytoday</th>\n",
       "      <th>finconf_math</th>\n",
       "      <th>mostknowledge</th>\n",
       "      <th>howconfident</th>\n",
       "      <th>interest</th>\n",
       "      <th>inflation</th>\n",
       "      <th>bond</th>\n",
       "      <th>cinterest</th>\n",
       "      <th>mortgage</th>\n",
       "      <th>risk</th>\n",
       "    </tr>\n",
       "  </thead>\n",
       "  <tbody>\n",
       "    <tr>\n",
       "      <th>0</th>\n",
       "      <td>False</td>\n",
       "      <td>False</td>\n",
       "      <td>False</td>\n",
       "      <td>False</td>\n",
       "      <td>False</td>\n",
       "      <td>False</td>\n",
       "      <td>False</td>\n",
       "      <td>False</td>\n",
       "      <td>False</td>\n",
       "      <td>False</td>\n",
       "      <td>...</td>\n",
       "      <td>False</td>\n",
       "      <td>False</td>\n",
       "      <td>False</td>\n",
       "      <td>False</td>\n",
       "      <td>False</td>\n",
       "      <td>False</td>\n",
       "      <td>True</td>\n",
       "      <td>True</td>\n",
       "      <td>True</td>\n",
       "      <td>False</td>\n",
       "    </tr>\n",
       "    <tr>\n",
       "      <th>1</th>\n",
       "      <td>False</td>\n",
       "      <td>False</td>\n",
       "      <td>False</td>\n",
       "      <td>False</td>\n",
       "      <td>False</td>\n",
       "      <td>False</td>\n",
       "      <td>False</td>\n",
       "      <td>False</td>\n",
       "      <td>False</td>\n",
       "      <td>False</td>\n",
       "      <td>...</td>\n",
       "      <td>False</td>\n",
       "      <td>False</td>\n",
       "      <td>False</td>\n",
       "      <td>False</td>\n",
       "      <td>False</td>\n",
       "      <td>False</td>\n",
       "      <td>True</td>\n",
       "      <td>False</td>\n",
       "      <td>False</td>\n",
       "      <td>True</td>\n",
       "    </tr>\n",
       "    <tr>\n",
       "      <th>2</th>\n",
       "      <td>False</td>\n",
       "      <td>False</td>\n",
       "      <td>False</td>\n",
       "      <td>False</td>\n",
       "      <td>False</td>\n",
       "      <td>False</td>\n",
       "      <td>False</td>\n",
       "      <td>False</td>\n",
       "      <td>False</td>\n",
       "      <td>False</td>\n",
       "      <td>...</td>\n",
       "      <td>False</td>\n",
       "      <td>False</td>\n",
       "      <td>False</td>\n",
       "      <td>False</td>\n",
       "      <td>False</td>\n",
       "      <td>False</td>\n",
       "      <td>True</td>\n",
       "      <td>True</td>\n",
       "      <td>False</td>\n",
       "      <td>True</td>\n",
       "    </tr>\n",
       "    <tr>\n",
       "      <th>3</th>\n",
       "      <td>False</td>\n",
       "      <td>False</td>\n",
       "      <td>False</td>\n",
       "      <td>False</td>\n",
       "      <td>False</td>\n",
       "      <td>False</td>\n",
       "      <td>False</td>\n",
       "      <td>False</td>\n",
       "      <td>False</td>\n",
       "      <td>False</td>\n",
       "      <td>...</td>\n",
       "      <td>False</td>\n",
       "      <td>False</td>\n",
       "      <td>False</td>\n",
       "      <td>False</td>\n",
       "      <td>True</td>\n",
       "      <td>True</td>\n",
       "      <td>False</td>\n",
       "      <td>False</td>\n",
       "      <td>False</td>\n",
       "      <td>True</td>\n",
       "    </tr>\n",
       "    <tr>\n",
       "      <th>4</th>\n",
       "      <td>False</td>\n",
       "      <td>False</td>\n",
       "      <td>False</td>\n",
       "      <td>False</td>\n",
       "      <td>False</td>\n",
       "      <td>False</td>\n",
       "      <td>False</td>\n",
       "      <td>False</td>\n",
       "      <td>False</td>\n",
       "      <td>False</td>\n",
       "      <td>...</td>\n",
       "      <td>False</td>\n",
       "      <td>False</td>\n",
       "      <td>False</td>\n",
       "      <td>False</td>\n",
       "      <td>False</td>\n",
       "      <td>False</td>\n",
       "      <td>True</td>\n",
       "      <td>False</td>\n",
       "      <td>False</td>\n",
       "      <td>True</td>\n",
       "    </tr>\n",
       "    <tr>\n",
       "      <th>...</th>\n",
       "      <td>...</td>\n",
       "      <td>...</td>\n",
       "      <td>...</td>\n",
       "      <td>...</td>\n",
       "      <td>...</td>\n",
       "      <td>...</td>\n",
       "      <td>...</td>\n",
       "      <td>...</td>\n",
       "      <td>...</td>\n",
       "      <td>...</td>\n",
       "      <td>...</td>\n",
       "      <td>...</td>\n",
       "      <td>...</td>\n",
       "      <td>...</td>\n",
       "      <td>...</td>\n",
       "      <td>...</td>\n",
       "      <td>...</td>\n",
       "      <td>...</td>\n",
       "      <td>...</td>\n",
       "      <td>...</td>\n",
       "      <td>...</td>\n",
       "    </tr>\n",
       "    <tr>\n",
       "      <th>108305</th>\n",
       "      <td>False</td>\n",
       "      <td>False</td>\n",
       "      <td>False</td>\n",
       "      <td>False</td>\n",
       "      <td>False</td>\n",
       "      <td>False</td>\n",
       "      <td>False</td>\n",
       "      <td>False</td>\n",
       "      <td>False</td>\n",
       "      <td>False</td>\n",
       "      <td>...</td>\n",
       "      <td>False</td>\n",
       "      <td>False</td>\n",
       "      <td>False</td>\n",
       "      <td>False</td>\n",
       "      <td>True</td>\n",
       "      <td>True</td>\n",
       "      <td>True</td>\n",
       "      <td>False</td>\n",
       "      <td>False</td>\n",
       "      <td>True</td>\n",
       "    </tr>\n",
       "    <tr>\n",
       "      <th>108306</th>\n",
       "      <td>False</td>\n",
       "      <td>False</td>\n",
       "      <td>False</td>\n",
       "      <td>False</td>\n",
       "      <td>False</td>\n",
       "      <td>False</td>\n",
       "      <td>False</td>\n",
       "      <td>False</td>\n",
       "      <td>False</td>\n",
       "      <td>False</td>\n",
       "      <td>...</td>\n",
       "      <td>False</td>\n",
       "      <td>False</td>\n",
       "      <td>False</td>\n",
       "      <td>False</td>\n",
       "      <td>False</td>\n",
       "      <td>False</td>\n",
       "      <td>False</td>\n",
       "      <td>False</td>\n",
       "      <td>False</td>\n",
       "      <td>True</td>\n",
       "    </tr>\n",
       "    <tr>\n",
       "      <th>108307</th>\n",
       "      <td>False</td>\n",
       "      <td>False</td>\n",
       "      <td>False</td>\n",
       "      <td>False</td>\n",
       "      <td>False</td>\n",
       "      <td>False</td>\n",
       "      <td>False</td>\n",
       "      <td>False</td>\n",
       "      <td>False</td>\n",
       "      <td>False</td>\n",
       "      <td>...</td>\n",
       "      <td>False</td>\n",
       "      <td>False</td>\n",
       "      <td>False</td>\n",
       "      <td>False</td>\n",
       "      <td>False</td>\n",
       "      <td>False</td>\n",
       "      <td>True</td>\n",
       "      <td>False</td>\n",
       "      <td>False</td>\n",
       "      <td>False</td>\n",
       "    </tr>\n",
       "    <tr>\n",
       "      <th>108308</th>\n",
       "      <td>False</td>\n",
       "      <td>False</td>\n",
       "      <td>False</td>\n",
       "      <td>False</td>\n",
       "      <td>False</td>\n",
       "      <td>False</td>\n",
       "      <td>False</td>\n",
       "      <td>False</td>\n",
       "      <td>False</td>\n",
       "      <td>False</td>\n",
       "      <td>...</td>\n",
       "      <td>False</td>\n",
       "      <td>False</td>\n",
       "      <td>False</td>\n",
       "      <td>False</td>\n",
       "      <td>False</td>\n",
       "      <td>True</td>\n",
       "      <td>False</td>\n",
       "      <td>False</td>\n",
       "      <td>False</td>\n",
       "      <td>False</td>\n",
       "    </tr>\n",
       "    <tr>\n",
       "      <th>108309</th>\n",
       "      <td>False</td>\n",
       "      <td>False</td>\n",
       "      <td>False</td>\n",
       "      <td>False</td>\n",
       "      <td>False</td>\n",
       "      <td>False</td>\n",
       "      <td>False</td>\n",
       "      <td>False</td>\n",
       "      <td>False</td>\n",
       "      <td>False</td>\n",
       "      <td>...</td>\n",
       "      <td>False</td>\n",
       "      <td>False</td>\n",
       "      <td>False</td>\n",
       "      <td>False</td>\n",
       "      <td>False</td>\n",
       "      <td>False</td>\n",
       "      <td>True</td>\n",
       "      <td>False</td>\n",
       "      <td>False</td>\n",
       "      <td>True</td>\n",
       "    </tr>\n",
       "  </tbody>\n",
       "</table>\n",
       "<p>108310 rows × 38 columns</p>\n",
       "</div>"
      ],
      "text/plain": [
       "        gender  agegrp   ethn    edu  marital  hhincome  retired   prof  \\\n",
       "0        False   False  False  False    False     False    False  False   \n",
       "1        False   False  False  False    False     False    False  False   \n",
       "2        False   False  False  False    False     False    False  False   \n",
       "3        False   False  False  False    False     False    False  False   \n",
       "4        False   False  False  False    False     False    False  False   \n",
       "...        ...     ...    ...    ...      ...       ...      ...    ...   \n",
       "108305   False   False  False  False    False     False    False  False   \n",
       "108306   False   False  False  False    False     False    False  False   \n",
       "108307   False   False  False  False    False     False    False  False   \n",
       "108308   False   False  False  False    False     False    False  False   \n",
       "108309   False   False  False  False    False     False    False  False   \n",
       "\n",
       "        profspouse  ptimestudent  ...  finconfdaytoday  finconf_math  \\\n",
       "0            False         False  ...            False         False   \n",
       "1            False         False  ...            False         False   \n",
       "2            False         False  ...            False         False   \n",
       "3            False         False  ...            False         False   \n",
       "4            False         False  ...            False         False   \n",
       "...            ...           ...  ...              ...           ...   \n",
       "108305       False         False  ...            False         False   \n",
       "108306       False         False  ...            False         False   \n",
       "108307       False         False  ...            False         False   \n",
       "108308       False         False  ...            False         False   \n",
       "108309       False         False  ...            False         False   \n",
       "\n",
       "        mostknowledge  howconfident  interest  inflation   bond  cinterest  \\\n",
       "0               False         False     False      False   True       True   \n",
       "1               False         False     False      False   True      False   \n",
       "2               False         False     False      False   True       True   \n",
       "3               False         False      True       True  False      False   \n",
       "4               False         False     False      False   True      False   \n",
       "...               ...           ...       ...        ...    ...        ...   \n",
       "108305          False         False      True       True   True      False   \n",
       "108306          False         False     False      False  False      False   \n",
       "108307          False         False     False      False   True      False   \n",
       "108308          False         False     False       True  False      False   \n",
       "108309          False         False     False      False   True      False   \n",
       "\n",
       "        mortgage   risk  \n",
       "0           True  False  \n",
       "1          False   True  \n",
       "2          False   True  \n",
       "3          False   True  \n",
       "4          False   True  \n",
       "...          ...    ...  \n",
       "108305     False   True  \n",
       "108306     False   True  \n",
       "108307     False  False  \n",
       "108308     False  False  \n",
       "108309     False   True  \n",
       "\n",
       "[108310 rows x 38 columns]"
      ]
     },
     "execution_count": 10,
     "metadata": {},
     "output_type": "execute_result"
    }
   ],
   "source": [
    "#To see whether there are missing values in the data\n",
    "df3.isnull()"
   ]
  },
  {
   "cell_type": "code",
   "execution_count": 11,
   "metadata": {},
   "outputs": [],
   "source": [
    "rows_before = df3.shape[0]\n",
    "df3 = df3.dropna()\n",
    "rows_after = df3.shape[0]"
   ]
  },
  {
   "cell_type": "code",
   "execution_count": 12,
   "metadata": {},
   "outputs": [
    {
     "data": {
      "text/plain": [
       "71748"
      ]
     },
     "execution_count": 12,
     "metadata": {},
     "output_type": "execute_result"
    }
   ],
   "source": [
    "rows_before - rows_after"
   ]
  },
  {
   "cell_type": "code",
   "execution_count": 13,
   "metadata": {},
   "outputs": [
    {
     "data": {
      "text/html": [
       "<div>\n",
       "<style scoped>\n",
       "    .dataframe tbody tr th:only-of-type {\n",
       "        vertical-align: middle;\n",
       "    }\n",
       "\n",
       "    .dataframe tbody tr th {\n",
       "        vertical-align: top;\n",
       "    }\n",
       "\n",
       "    .dataframe thead th {\n",
       "        text-align: right;\n",
       "    }\n",
       "</style>\n",
       "<table border=\"1\" class=\"dataframe\">\n",
       "  <thead>\n",
       "    <tr style=\"text-align: right;\">\n",
       "      <th></th>\n",
       "      <th>gender</th>\n",
       "      <th>agegrp</th>\n",
       "      <th>ethn</th>\n",
       "      <th>edu</th>\n",
       "      <th>marital</th>\n",
       "      <th>hhincome</th>\n",
       "      <th>retired</th>\n",
       "      <th>prof</th>\n",
       "      <th>profspouse</th>\n",
       "      <th>ptimestudent</th>\n",
       "      <th>...</th>\n",
       "      <th>finconfdaytoday</th>\n",
       "      <th>finconf_math</th>\n",
       "      <th>mostknowledge</th>\n",
       "      <th>howconfident</th>\n",
       "      <th>interest</th>\n",
       "      <th>inflation</th>\n",
       "      <th>bond</th>\n",
       "      <th>cinterest</th>\n",
       "      <th>mortgage</th>\n",
       "      <th>risk</th>\n",
       "    </tr>\n",
       "  </thead>\n",
       "  <tbody>\n",
       "    <tr>\n",
       "      <th>7</th>\n",
       "      <td>False</td>\n",
       "      <td>False</td>\n",
       "      <td>False</td>\n",
       "      <td>False</td>\n",
       "      <td>False</td>\n",
       "      <td>False</td>\n",
       "      <td>False</td>\n",
       "      <td>False</td>\n",
       "      <td>False</td>\n",
       "      <td>False</td>\n",
       "      <td>...</td>\n",
       "      <td>False</td>\n",
       "      <td>False</td>\n",
       "      <td>False</td>\n",
       "      <td>False</td>\n",
       "      <td>False</td>\n",
       "      <td>False</td>\n",
       "      <td>False</td>\n",
       "      <td>False</td>\n",
       "      <td>False</td>\n",
       "      <td>False</td>\n",
       "    </tr>\n",
       "    <tr>\n",
       "      <th>8</th>\n",
       "      <td>False</td>\n",
       "      <td>False</td>\n",
       "      <td>False</td>\n",
       "      <td>False</td>\n",
       "      <td>False</td>\n",
       "      <td>False</td>\n",
       "      <td>False</td>\n",
       "      <td>False</td>\n",
       "      <td>False</td>\n",
       "      <td>False</td>\n",
       "      <td>...</td>\n",
       "      <td>False</td>\n",
       "      <td>False</td>\n",
       "      <td>False</td>\n",
       "      <td>False</td>\n",
       "      <td>False</td>\n",
       "      <td>False</td>\n",
       "      <td>False</td>\n",
       "      <td>False</td>\n",
       "      <td>False</td>\n",
       "      <td>False</td>\n",
       "    </tr>\n",
       "    <tr>\n",
       "      <th>9</th>\n",
       "      <td>False</td>\n",
       "      <td>False</td>\n",
       "      <td>False</td>\n",
       "      <td>False</td>\n",
       "      <td>False</td>\n",
       "      <td>False</td>\n",
       "      <td>False</td>\n",
       "      <td>False</td>\n",
       "      <td>False</td>\n",
       "      <td>False</td>\n",
       "      <td>...</td>\n",
       "      <td>False</td>\n",
       "      <td>False</td>\n",
       "      <td>False</td>\n",
       "      <td>False</td>\n",
       "      <td>False</td>\n",
       "      <td>False</td>\n",
       "      <td>False</td>\n",
       "      <td>False</td>\n",
       "      <td>False</td>\n",
       "      <td>False</td>\n",
       "    </tr>\n",
       "    <tr>\n",
       "      <th>22</th>\n",
       "      <td>False</td>\n",
       "      <td>False</td>\n",
       "      <td>False</td>\n",
       "      <td>False</td>\n",
       "      <td>False</td>\n",
       "      <td>False</td>\n",
       "      <td>False</td>\n",
       "      <td>False</td>\n",
       "      <td>False</td>\n",
       "      <td>False</td>\n",
       "      <td>...</td>\n",
       "      <td>False</td>\n",
       "      <td>False</td>\n",
       "      <td>False</td>\n",
       "      <td>False</td>\n",
       "      <td>False</td>\n",
       "      <td>False</td>\n",
       "      <td>False</td>\n",
       "      <td>False</td>\n",
       "      <td>False</td>\n",
       "      <td>False</td>\n",
       "    </tr>\n",
       "    <tr>\n",
       "      <th>31</th>\n",
       "      <td>False</td>\n",
       "      <td>False</td>\n",
       "      <td>False</td>\n",
       "      <td>False</td>\n",
       "      <td>False</td>\n",
       "      <td>False</td>\n",
       "      <td>False</td>\n",
       "      <td>False</td>\n",
       "      <td>False</td>\n",
       "      <td>False</td>\n",
       "      <td>...</td>\n",
       "      <td>False</td>\n",
       "      <td>False</td>\n",
       "      <td>False</td>\n",
       "      <td>False</td>\n",
       "      <td>False</td>\n",
       "      <td>False</td>\n",
       "      <td>False</td>\n",
       "      <td>False</td>\n",
       "      <td>False</td>\n",
       "      <td>False</td>\n",
       "    </tr>\n",
       "    <tr>\n",
       "      <th>...</th>\n",
       "      <td>...</td>\n",
       "      <td>...</td>\n",
       "      <td>...</td>\n",
       "      <td>...</td>\n",
       "      <td>...</td>\n",
       "      <td>...</td>\n",
       "      <td>...</td>\n",
       "      <td>...</td>\n",
       "      <td>...</td>\n",
       "      <td>...</td>\n",
       "      <td>...</td>\n",
       "      <td>...</td>\n",
       "      <td>...</td>\n",
       "      <td>...</td>\n",
       "      <td>...</td>\n",
       "      <td>...</td>\n",
       "      <td>...</td>\n",
       "      <td>...</td>\n",
       "      <td>...</td>\n",
       "      <td>...</td>\n",
       "      <td>...</td>\n",
       "    </tr>\n",
       "    <tr>\n",
       "      <th>108293</th>\n",
       "      <td>False</td>\n",
       "      <td>False</td>\n",
       "      <td>False</td>\n",
       "      <td>False</td>\n",
       "      <td>False</td>\n",
       "      <td>False</td>\n",
       "      <td>False</td>\n",
       "      <td>False</td>\n",
       "      <td>False</td>\n",
       "      <td>False</td>\n",
       "      <td>...</td>\n",
       "      <td>False</td>\n",
       "      <td>False</td>\n",
       "      <td>False</td>\n",
       "      <td>False</td>\n",
       "      <td>False</td>\n",
       "      <td>False</td>\n",
       "      <td>False</td>\n",
       "      <td>False</td>\n",
       "      <td>False</td>\n",
       "      <td>False</td>\n",
       "    </tr>\n",
       "    <tr>\n",
       "      <th>108294</th>\n",
       "      <td>False</td>\n",
       "      <td>False</td>\n",
       "      <td>False</td>\n",
       "      <td>False</td>\n",
       "      <td>False</td>\n",
       "      <td>False</td>\n",
       "      <td>False</td>\n",
       "      <td>False</td>\n",
       "      <td>False</td>\n",
       "      <td>False</td>\n",
       "      <td>...</td>\n",
       "      <td>False</td>\n",
       "      <td>False</td>\n",
       "      <td>False</td>\n",
       "      <td>False</td>\n",
       "      <td>False</td>\n",
       "      <td>False</td>\n",
       "      <td>False</td>\n",
       "      <td>False</td>\n",
       "      <td>False</td>\n",
       "      <td>False</td>\n",
       "    </tr>\n",
       "    <tr>\n",
       "      <th>108296</th>\n",
       "      <td>False</td>\n",
       "      <td>False</td>\n",
       "      <td>False</td>\n",
       "      <td>False</td>\n",
       "      <td>False</td>\n",
       "      <td>False</td>\n",
       "      <td>False</td>\n",
       "      <td>False</td>\n",
       "      <td>False</td>\n",
       "      <td>False</td>\n",
       "      <td>...</td>\n",
       "      <td>False</td>\n",
       "      <td>False</td>\n",
       "      <td>False</td>\n",
       "      <td>False</td>\n",
       "      <td>False</td>\n",
       "      <td>False</td>\n",
       "      <td>False</td>\n",
       "      <td>False</td>\n",
       "      <td>False</td>\n",
       "      <td>False</td>\n",
       "    </tr>\n",
       "    <tr>\n",
       "      <th>108298</th>\n",
       "      <td>False</td>\n",
       "      <td>False</td>\n",
       "      <td>False</td>\n",
       "      <td>False</td>\n",
       "      <td>False</td>\n",
       "      <td>False</td>\n",
       "      <td>False</td>\n",
       "      <td>False</td>\n",
       "      <td>False</td>\n",
       "      <td>False</td>\n",
       "      <td>...</td>\n",
       "      <td>False</td>\n",
       "      <td>False</td>\n",
       "      <td>False</td>\n",
       "      <td>False</td>\n",
       "      <td>False</td>\n",
       "      <td>False</td>\n",
       "      <td>False</td>\n",
       "      <td>False</td>\n",
       "      <td>False</td>\n",
       "      <td>False</td>\n",
       "    </tr>\n",
       "    <tr>\n",
       "      <th>108302</th>\n",
       "      <td>False</td>\n",
       "      <td>False</td>\n",
       "      <td>False</td>\n",
       "      <td>False</td>\n",
       "      <td>False</td>\n",
       "      <td>False</td>\n",
       "      <td>False</td>\n",
       "      <td>False</td>\n",
       "      <td>False</td>\n",
       "      <td>False</td>\n",
       "      <td>...</td>\n",
       "      <td>False</td>\n",
       "      <td>False</td>\n",
       "      <td>False</td>\n",
       "      <td>False</td>\n",
       "      <td>False</td>\n",
       "      <td>False</td>\n",
       "      <td>False</td>\n",
       "      <td>False</td>\n",
       "      <td>False</td>\n",
       "      <td>False</td>\n",
       "    </tr>\n",
       "  </tbody>\n",
       "</table>\n",
       "<p>36562 rows × 38 columns</p>\n",
       "</div>"
      ],
      "text/plain": [
       "        gender  agegrp   ethn    edu  marital  hhincome  retired   prof  \\\n",
       "7        False   False  False  False    False     False    False  False   \n",
       "8        False   False  False  False    False     False    False  False   \n",
       "9        False   False  False  False    False     False    False  False   \n",
       "22       False   False  False  False    False     False    False  False   \n",
       "31       False   False  False  False    False     False    False  False   \n",
       "...        ...     ...    ...    ...      ...       ...      ...    ...   \n",
       "108293   False   False  False  False    False     False    False  False   \n",
       "108294   False   False  False  False    False     False    False  False   \n",
       "108296   False   False  False  False    False     False    False  False   \n",
       "108298   False   False  False  False    False     False    False  False   \n",
       "108302   False   False  False  False    False     False    False  False   \n",
       "\n",
       "        profspouse  ptimestudent  ...  finconfdaytoday  finconf_math  \\\n",
       "7            False         False  ...            False         False   \n",
       "8            False         False  ...            False         False   \n",
       "9            False         False  ...            False         False   \n",
       "22           False         False  ...            False         False   \n",
       "31           False         False  ...            False         False   \n",
       "...            ...           ...  ...              ...           ...   \n",
       "108293       False         False  ...            False         False   \n",
       "108294       False         False  ...            False         False   \n",
       "108296       False         False  ...            False         False   \n",
       "108298       False         False  ...            False         False   \n",
       "108302       False         False  ...            False         False   \n",
       "\n",
       "        mostknowledge  howconfident  interest  inflation   bond  cinterest  \\\n",
       "7               False         False     False      False  False      False   \n",
       "8               False         False     False      False  False      False   \n",
       "9               False         False     False      False  False      False   \n",
       "22              False         False     False      False  False      False   \n",
       "31              False         False     False      False  False      False   \n",
       "...               ...           ...       ...        ...    ...        ...   \n",
       "108293          False         False     False      False  False      False   \n",
       "108294          False         False     False      False  False      False   \n",
       "108296          False         False     False      False  False      False   \n",
       "108298          False         False     False      False  False      False   \n",
       "108302          False         False     False      False  False      False   \n",
       "\n",
       "        mortgage   risk  \n",
       "7          False  False  \n",
       "8          False  False  \n",
       "9          False  False  \n",
       "22         False  False  \n",
       "31         False  False  \n",
       "...          ...    ...  \n",
       "108293     False  False  \n",
       "108294     False  False  \n",
       "108296     False  False  \n",
       "108298     False  False  \n",
       "108302     False  False  \n",
       "\n",
       "[36562 rows x 38 columns]"
      ]
     },
     "execution_count": 13,
     "metadata": {},
     "output_type": "execute_result"
    }
   ],
   "source": [
    "#check again for missing values\n",
    "df3.isnull()"
   ]
  },
  {
   "cell_type": "code",
   "execution_count": 14,
   "metadata": {},
   "outputs": [],
   "source": [
    "##Converting and preparing variables for analysis\n",
    "df3['inter'] = df3['interest'].replace(['2', '3'], '0')\n",
    "df3['infl'] = df3['inflation'].replace(['1', '2'], '0')\n",
    "df3['infl'] = df3['infl'].replace(['3'], '1')\n",
    "df3['bnd'] = df3['bond'].replace(['1', '3', '4'], '0')\n",
    "df3['bnd'] = df3['bnd'].replace(['2'], '1')\n",
    "df3['mort'] = df3['mortgage'].replace(['2'], '0')\n",
    "df3['mort'] = df3['mort'].replace(['2'], '1')\n",
    "df3['cinter'] = df3['cinterest'].replace(['1', '3', '4', ' '], '0')\n",
    "df3['cinter'] = df3['cinter'].replace(['2'], '1')\n",
    "df3['rsk'] = df3['risk'].replace(['1'], '0')\n",
    "df3['rsk'] = df3['rsk'].replace(['2'], '1')"
   ]
  },
  {
   "cell_type": "code",
   "execution_count": 15,
   "metadata": {},
   "outputs": [],
   "source": [
    "df3['rsk'] = pd.to_numeric(df3['rsk'])\n",
    "df3['inter'] = pd.to_numeric(df3['inter'])\n",
    "df3['infl'] = pd.to_numeric(df3['infl'])\n",
    "df3['cinter'] = pd.to_numeric(df3['cinter'])\n",
    "df3['bnd'] = pd.to_numeric(df3['bnd'])\n",
    "df3['mort'] = pd.to_numeric(df3['mort'])"
   ]
  },
  {
   "cell_type": "code",
   "execution_count": 16,
   "metadata": {},
   "outputs": [],
   "source": [
    "fl  = df3['rsk'] + df3['mort'] + df3['cinter'] + df3['bnd'] + df3['infl'] + df3['inter']\n",
    "df3['fl'] = fl"
   ]
  },
  {
   "cell_type": "code",
   "execution_count": 17,
   "metadata": {},
   "outputs": [],
   "source": [
    "df3['credit'] = pd.to_numeric(df3['creditrecord'], errors='coerce').fillna(0).astype(int)"
   ]
  },
  {
   "cell_type": "code",
   "execution_count": 18,
   "metadata": {},
   "outputs": [
    {
     "data": {
      "text/plain": [
       "1.9544882665062087"
      ]
     },
     "execution_count": 18,
     "metadata": {},
     "output_type": "execute_result"
    }
   ],
   "source": [
    "df3['credit'].mean()"
   ]
  },
  {
   "cell_type": "code",
   "execution_count": 19,
   "metadata": {},
   "outputs": [],
   "source": [
    "##computing Target variable\n",
    "df3['credit_bin'] = df3['credit'].apply(lambda x: 1 if x >= 2 else 0)"
   ]
  },
  {
   "cell_type": "code",
   "execution_count": 20,
   "metadata": {},
   "outputs": [
    {
     "data": {
      "text/plain": [
       "0    20205\n",
       "1    16357\n",
       "Name: credit_bin, dtype: int64"
      ]
     },
     "execution_count": 20,
     "metadata": {},
     "output_type": "execute_result"
    }
   ],
   "source": [
    "df3['credit_bin'].value_counts()"
   ]
  },
  {
   "cell_type": "code",
   "execution_count": 24,
   "metadata": {},
   "outputs": [],
   "source": [
    "#df3['censusreg'] = pd.to_numeric(df3['censusreg'], errors='coerce')\n",
    "df3['gender'] = pd.to_numeric(df3['gender'])\n",
    "df3['agegrp'] = pd.to_numeric(df3['agegrp'])\n",
    "df3['ethn'] = pd.to_numeric(df3['ethn'])\n",
    "df3['edu'] = pd.to_numeric(df3['edu'], errors='coerce').fillna(0).astype(int)\n",
    "df3['marital'] = pd.to_numeric(df3['marital'])\n",
    "df3['hhincome'] = pd.to_numeric(df3['hhincome'])\n",
    "#df3['armservice'] = pd.to_numeric(df3['armservice'], errors='coerce').fillna(0).astype(int)\n",
    "df3['retired'] = pd.to_numeric(df3['retired'], errors='coerce').fillna(0).astype(int)\n",
    "df3['prof'] = pd.to_numeric(df3['prof'])\n",
    "df3['profspouse'] = pd.to_numeric(df3['profspouse'], errors='coerce').fillna(0).astype(int)\n",
    "df3['currentstudent'] = pd.to_numeric(df3['currentstudent'], errors='coerce').fillna(0).astype(int)\n",
    "df3['finsatisfacton'] = pd.to_numeric(df3['finsatisfacton'])\n",
    "df3['willingrisk'] = pd.to_numeric(df3['willingrisk'])\n",
    "df3['savingchildedu'] = pd.to_numeric(df3['savingchildedu'], errors='coerce').fillna(0).astype(int)\n",
    "df3['finconfdaytoday'] = pd.to_numeric(df3['finconfdaytoday'])\n",
    "#df3['usstate'] = pd.to_numeric(df3['usstate'])\n",
    "#df3['censusdiv'] = pd.to_numeric(df3['censusdiv'])\n",
    "#df3['censusreg'] = pd.to_numeric(df3['censusreg'])"
   ]
  },
  {
   "cell_type": "code",
   "execution_count": 27,
   "metadata": {},
   "outputs": [],
   "source": [
    "##computing features\n",
    "Features = df3[['gender','agegrp','ethn', 'edu', 'marital', 'hhincome', 'retired','prof',\n",
    "               'profspouse','currentstudent', 'finsatisfacton', 'willingrisk', 'savingchildedu','finconfdaytoday','fl']]"
   ]
  },
  {
   "cell_type": "code",
   "execution_count": 28,
   "metadata": {},
   "outputs": [
    {
     "data": {
      "text/plain": [
       "array([[ 1.23780847, -1.92606083, -0.54719996, ...,  1.81045508,\n",
       "        -3.01708704, -0.24856366],\n",
       "       [-0.80787943, -1.27963819, -0.54719996, ...,  0.54771956,\n",
       "         0.66423238, -2.0069045 ],\n",
       "       [ 1.23780847,  1.30605237, -0.54719996, ..., -0.71501596,\n",
       "         0.66423238, -0.24856366],\n",
       "       ...,\n",
       "       [ 1.23780847,  1.30605237, -0.54719996, ..., -0.71501596,\n",
       "        -3.75335093,  0.63060676],\n",
       "       [ 1.23780847,  1.30605237, -0.54719996, ..., -0.71501596,\n",
       "        -1.54455927, -0.24856366],\n",
       "       [ 1.23780847,  1.30605237, -0.54719996, ..., -0.71501596,\n",
       "         0.66423238,  0.63060676]])"
      ]
     },
     "execution_count": 28,
     "metadata": {},
     "output_type": "execute_result"
    }
   ],
   "source": [
    "X = StandardScaler().fit(Features).transform(Features)\n",
    "X"
   ]
  },
  {
   "cell_type": "code",
   "execution_count": 29,
   "metadata": {},
   "outputs": [],
   "source": [
    "y = df3['credit_bin'].values"
   ]
  },
  {
   "cell_type": "markdown",
   "metadata": {},
   "source": [
    "## Mosaic plots (Exploring Data/Association between variables)"
   ]
  },
  {
   "cell_type": "markdown",
   "metadata": {},
   "source": [
    "## Question: Are financial literacy and credit card behavior associated ?"
   ]
  },
  {
   "cell_type": "code",
   "execution_count": 76,
   "metadata": {},
   "outputs": [
    {
     "data": {
      "image/png": "[encoded data removed]",
      "text/plain": [
       "<Figure size 432x288 with 3 Axes>"
      ]
     },
     "metadata": {
      "needs_background": "light"
     },
     "output_type": "display_data"
    }
   ],
   "source": [
    "##Mosaic plots\n",
    "from statsmodels.graphics.mosaicplot import mosaic\n",
    "import matplotlib.pyplot as plt\n",
    "\n",
    "mosaic(df3, ['fl', 'credit_bin'])\n",
    "plt.show()"
   ]
  },
  {
   "cell_type": "markdown",
   "metadata": {},
   "source": [
    "## Question: Does age group of the individual determine credit card behavior ?\n"
   ]
  },
  {
   "cell_type": "code",
   "execution_count": 75,
   "metadata": {},
   "outputs": [
    {
     "data": {
      "image/png": "[encoded data removed]",
      "text/plain": [
       "<Figure size 432x288 with 3 Axes>"
      ]
     },
     "metadata": {
      "needs_background": "light"
     },
     "output_type": "display_data"
    }
   ],
   "source": [
    "mosaic(df3, ['agegrp', 'credit_bin'])\n",
    "plt.show()"
   ]
  },
  {
   "cell_type": "markdown",
   "metadata": {},
   "source": [
    "## OLS Regression (Supervised Learning)"
   ]
  },
  {
   "cell_type": "code",
   "execution_count": 31,
   "metadata": {},
   "outputs": [],
   "source": [
    "##OLS REGRESSION\n",
    "y1 = df3['credit'].values\n",
    "model = sm.OLS(y1, X)"
   ]
  },
  {
   "cell_type": "code",
   "execution_count": 32,
   "metadata": {},
   "outputs": [
    {
     "name": "stdout",
     "output_type": "stream",
     "text": [
      "                                 OLS Regression Results                                \n",
      "=======================================================================================\n",
      "Dep. Variable:                      y   R-squared (uncentered):                   0.465\n",
      "Model:                            OLS   Adj. R-squared (uncentered):              0.465\n",
      "Method:                 Least Squares   F-statistic:                              2116.\n",
      "Date:                Tue, 16 Feb 2021   Prob (F-statistic):                        0.00\n",
      "Time:                        11:26:04   Log-Likelihood:                         -80350.\n",
      "No. Observations:               36562   AIC:                                  1.607e+05\n",
      "Df Residuals:                   36547   BIC:                                  1.609e+05\n",
      "Df Model:                          15                                                  \n",
      "Covariance Type:            nonrobust                                                  \n",
      "==============================================================================\n",
      "                 coef    std err          t      P>|t|      [0.025      0.975]\n",
      "------------------------------------------------------------------------------\n",
      "x1             0.0364      0.012      3.051      0.002       0.013       0.060\n",
      "x2             0.0476      0.015      3.087      0.002       0.017       0.078\n",
      "x3            -0.0505      0.012     -4.231      0.000      -0.074      -0.027\n",
      "x4             1.9090      0.013    151.664      0.000       1.884       1.934\n",
      "x5            -0.0317      0.015     -2.173      0.030      -0.060      -0.003\n",
      "x6            -0.0833      0.014     -5.785      0.000      -0.112      -0.055\n",
      "x7             0.1069      0.012      8.745      0.000       0.083       0.131\n",
      "x8             0.0222      0.014      1.537      0.124      -0.006       0.051\n",
      "x9             0.0227      0.015      1.477      0.140      -0.007       0.053\n",
      "x10            0.1393      0.012     11.736      0.000       0.116       0.163\n",
      "x11            0.2156      0.014     15.897      0.000       0.189       0.242\n",
      "x12           -0.0060      0.013     -0.465      0.642      -0.031       0.019\n",
      "x13           -0.0259      0.012     -2.114      0.035      -0.050      -0.002\n",
      "x14            0.0647      0.012      5.394      0.000       0.041       0.088\n",
      "x15            0.0341      0.013      2.649      0.008       0.009       0.059\n",
      "==============================================================================\n",
      "Omnibus:                     5561.893   Durbin-Watson:                   0.334\n",
      "Prob(Omnibus):                  0.000   Jarque-Bera (JB):            17784.900\n",
      "Skew:                           0.783   Prob(JB):                         0.00\n",
      "Kurtosis:                       6.036   Cond. No.                         2.85\n",
      "==============================================================================\n",
      "\n",
      "Warnings:\n",
      "[1] Standard Errors assume that the covariance matrix of the errors is correctly specified.\n"
     ]
    }
   ],
   "source": [
    "results = model.fit()\n",
    "print(results.summary())"
   ]
  },
  {
   "cell_type": "markdown",
   "metadata": {},
   "source": [
    "## Logistic Resgression (Supervised Learning)"
   ]
  },
  {
   "cell_type": "code",
   "execution_count": 73,
   "metadata": {},
   "outputs": [
    {
     "name": "stdout",
     "output_type": "stream",
     "text": [
      "Optimization terminated successfully.\n",
      "         Current function value: 0.102938\n",
      "         Iterations 9\n",
      "                         Results: Logit\n",
      "================================================================\n",
      "Model:              Logit            Pseudo R-squared: 0.850    \n",
      "Dependent Variable: y                AIC:              7557.2099\n",
      "Date:               2021-02-16 11:47 BIC:              7684.8113\n",
      "No. Observations:   36562            Log-Likelihood:   -3763.6  \n",
      "Df Model:           14               LL-Null:          -25140.  \n",
      "Df Residuals:       36547            LLR p-value:      0.0000   \n",
      "Converged:          1.0000           Scale:            1.0000   \n",
      "No. Iterations:     9.0000                                      \n",
      "----------------------------------------------------------------\n",
      "                 Coef.  Std.Err.    z     P>|z|   [0.025  0.975]\n",
      "----------------------------------------------------------------\n",
      "gender          -0.1469   0.0636  -2.3110 0.0208 -0.2714 -0.0223\n",
      "agegrp          -0.0403   0.0279  -1.4467 0.1480 -0.0950  0.0143\n",
      "ethn            -1.0825   0.0773 -14.0113 0.0000 -1.2339 -0.9311\n",
      "edu              2.0926   0.0281  74.4324 0.0000  2.0375  2.1477\n",
      "marital         -0.2047   0.0357  -5.7401 0.0000 -0.2747 -0.1348\n",
      "hhincome        -0.2042   0.0201 -10.1455 0.0000 -0.2436 -0.1647\n",
      "retired          0.7317   0.0965   7.5841 0.0000  0.5426  0.9208\n",
      "prof            -0.0105   0.0154  -0.6798 0.4966 -0.0406  0.0197\n",
      "profspouse      -0.0020   0.0158  -0.1272 0.8988 -0.0329  0.0289\n",
      "currentstudent  -0.1148   0.0868  -1.3225 0.1860 -0.2850  0.0553\n",
      "finsatisfacton   0.1619   0.0134  12.0593 0.0000  0.1356  0.1882\n",
      "willingrisk     -0.1057   0.0132  -8.0304 0.0000 -0.1315 -0.0799\n",
      "savingchildedu  -0.2236   0.0436  -5.1259 0.0000 -0.3091 -0.1381\n",
      "finconfdaytoday -0.0720   0.0214  -3.3661 0.0008 -0.1138 -0.0301\n",
      "fl              -0.1482   0.0275  -5.3937 0.0000 -0.2020 -0.0943\n",
      "================================================================\n",
      "\n"
     ]
    }
   ],
   "source": [
    "#LOGIT REGRESSION\n",
    "import statsmodels.api as sm\n",
    "logit_model=sm.Logit(y,Features)\n",
    "result=logit_model.fit()\n",
    "print(result.summary2())"
   ]
  },
  {
   "cell_type": "markdown",
   "metadata": {},
   "source": [
    "## KNN Clustering (Un-Supervised Learning)"
   ]
  },
  {
   "cell_type": "code",
   "execution_count": 33,
   "metadata": {},
   "outputs": [
    {
     "name": "stdout",
     "output_type": "stream",
     "text": [
      "Train set: (29249, 15) (29249,)\n",
      "Test set: (7313, 15) (7313,)\n"
     ]
    }
   ],
   "source": [
    "#here we split the data sets into test and training datasets\n",
    "from sklearn.model_selection import train_test_split\n",
    "X_train, X_test, y_train, y_test = train_test_split( X, y, test_size=0.2, random_state=4)\n",
    "print ('Train set:', X_train.shape,  y_train.shape)\n",
    "print ('Test set:', X_test.shape,  y_test.shape)"
   ]
  },
  {
   "cell_type": "code",
   "execution_count": 34,
   "metadata": {},
   "outputs": [],
   "source": [
    "#In order to apply KNN we need to import library\n",
    "from sklearn.neighbors import KNeighborsClassifier"
   ]
  },
  {
   "cell_type": "code",
   "execution_count": 35,
   "metadata": {},
   "outputs": [
    {
     "data": {
      "text/plain": [
       "KNeighborsClassifier(n_neighbors=4)"
      ]
     },
     "execution_count": 35,
     "metadata": {},
     "output_type": "execute_result"
    }
   ],
   "source": [
    "k = 4\n",
    "#Train Model and Predict  \n",
    "knn = KNeighborsClassifier(n_neighbors = k).fit(X_train,y_train)\n",
    "knn"
   ]
  },
  {
   "cell_type": "code",
   "execution_count": 36,
   "metadata": {},
   "outputs": [
    {
     "data": {
      "text/plain": [
       "array([1, 0, 0, 1, 1])"
      ]
     },
     "execution_count": 36,
     "metadata": {},
     "output_type": "execute_result"
    }
   ],
   "source": [
    "yhat = knn.predict(X_test)\n",
    "yhat[0:5]"
   ]
  },
  {
   "cell_type": "code",
   "execution_count": 37,
   "metadata": {},
   "outputs": [
    {
     "name": "stdout",
     "output_type": "stream",
     "text": [
      "Train set Accuracy:  0.9597251188074806\n",
      "Test set Accuracy:  0.9453028852728018\n"
     ]
    }
   ],
   "source": [
    "#now we test the accuracy\n",
    "from sklearn import metrics\n",
    "print(\"Train set Accuracy: \", metrics.accuracy_score(y_train, knn.predict(X_train)))\n",
    "print(\"Test set Accuracy: \", metrics.accuracy_score(y_test, yhat))"
   ]
  },
  {
   "cell_type": "code",
   "execution_count": 38,
   "metadata": {},
   "outputs": [
    {
     "name": "stdout",
     "output_type": "stream",
     "text": [
      "model\n",
      " KMeans(n_clusters=12)\n"
     ]
    }
   ],
   "source": [
    "kmeans = KMeans(n_clusters=12)\n",
    "model = kmeans.fit(X)\n",
    "print(\"model\\n\", model)"
   ]
  },
  {
   "cell_type": "code",
   "execution_count": 39,
   "metadata": {},
   "outputs": [
    {
     "data": {
      "text/plain": [
       "array([[ 1.94375565e-01,  8.74203751e-01, -3.34353108e-01,\n",
       "        -5.96219097e-01, -5.49197703e-01, -4.22054535e-01,\n",
       "        -2.66818344e-01,  9.48068876e-01,  1.21173491e+00,\n",
       "        -1.63111174e-01, -5.26707388e-01, -9.52829089e-01,\n",
       "        -5.80733411e-01,  1.52510803e-01, -1.69094403e-01],\n",
       "       [-1.74609001e-01, -1.05655740e-01, -5.47199963e-01,\n",
       "         1.31888878e+00, -2.98055276e-01,  6.40269161e-01,\n",
       "        -2.11110269e-01, -6.23749665e-01, -2.20596216e-01,\n",
       "        -1.58049636e-01,  3.34509458e-01,  3.68175218e-01,\n",
       "         1.97979383e-02,  2.62825453e-01,  7.37541387e-01],\n",
       "       [-5.70002509e-02, -1.28889760e+00,  6.49709542e-01,\n",
       "         5.31201884e-01,  4.50892213e-02, -4.39076679e-01,\n",
       "        -4.21786399e-02, -3.66777595e-01, -5.55149206e-01,\n",
       "         5.04289557e+00,  4.73883832e-01,  7.55909806e-01,\n",
       "         8.19657260e-02, -5.35754728e-02, -9.77401447e-01],\n",
       "       [ 3.91199686e-01,  8.28666568e-01, -2.22900812e-01,\n",
       "        -1.23715038e-01,  2.15420107e+00, -7.16884725e-01,\n",
       "        -2.38556410e-01,  6.77121178e-01, -8.70388948e-01,\n",
       "        -1.60171696e-01, -1.48711337e-01, -4.47566014e-01,\n",
       "        -4.79958265e-01,  2.36750633e-01,  2.80949515e-02],\n",
       "       [-6.47799192e-01,  7.15799920e-01, -1.49328995e-01,\n",
       "         9.88837492e-01, -9.30727300e-02,  1.46838610e-01,\n",
       "         3.81387205e+00,  5.04555073e-01,  4.57845030e-01,\n",
       "        -1.35941351e-01,  3.35589025e-01,  1.02024889e-02,\n",
       "        -2.71876416e-01,  2.45025001e-01,  4.58824537e-01],\n",
       "       [ 6.62263190e-04,  1.09372377e+00, -3.79001101e-01,\n",
       "         2.88131828e-01, -5.67621143e-01,  4.85905150e-01,\n",
       "        -1.70785376e-01,  1.36146463e+00,  1.58258508e+00,\n",
       "        -1.63111174e-01,  8.35106085e-01,  2.01649967e-02,\n",
       "        -5.59691637e-01,  4.50060997e-01,  5.18660481e-01],\n",
       "       [ 9.14533096e-02, -2.70299753e-01,  7.22292306e-02,\n",
       "        -4.16546530e-01,  2.67953248e-02, -2.57559173e-01,\n",
       "        -2.37421162e-01, -1.36512079e-01, -1.75098749e-01,\n",
       "        -1.46470012e-01, -5.68951640e-01, -2.23069015e-01,\n",
       "         1.29228020e-01, -2.93279964e+00, -3.61619554e-01],\n",
       "       [-4.33541944e-02, -4.01325483e-01,  1.82748550e+00,\n",
       "         1.58900782e-01, -1.79953903e-01,  4.34356993e-01,\n",
       "        -2.30269596e-01, -5.91163578e-01, -2.76674724e-01,\n",
       "        -1.63111174e-01,  1.52984709e-01,  3.80209412e-01,\n",
       "         1.38296317e-01,  1.71991167e-01,  2.60637920e-01],\n",
       "       [-3.57465284e-02, -9.71774893e-01,  2.13959694e-01,\n",
       "        -4.90849417e-01,  2.66743161e-01, -1.27547525e+00,\n",
       "        -2.72098338e-01, -7.90404878e-02, -7.43818508e-01,\n",
       "        -1.60641082e-01, -9.04321872e-01, -4.35958884e-01,\n",
       "        -6.36535887e-01, -2.07510230e-01, -3.61836666e-01],\n",
       "       [ 5.38789547e-02, -1.01357438e+00,  5.58692206e-01,\n",
       "         2.52122329e-01, -1.54844551e-01, -1.74248139e-01,\n",
       "        -1.70874988e-01, -4.91990068e-01, -3.72715641e-01,\n",
       "        -1.63111174e-01,  8.58683674e-01,  1.03936013e+00,\n",
       "         3.92165185e-01,  1.97347175e-02, -1.88118737e+00],\n",
       "       [ 4.02043125e-01, -4.68986420e-01, -2.87012696e-02,\n",
       "        -4.86400232e-01, -1.72312725e-01, -3.41862964e-01,\n",
       "        -2.67533653e-01, -3.00523629e-01, -6.88908756e-02,\n",
       "        -1.57369012e-01, -9.31048176e-01, -4.99176633e-01,\n",
       "         1.70317722e+00, -1.24621783e-01, -2.55461914e-01],\n",
       "       [-2.44263732e-01, -8.92539169e-02, -5.47199963e-01,\n",
       "        -8.00716267e-01, -3.91700110e-01,  6.95988842e-01,\n",
       "        -2.75295209e-01, -6.38323747e-01, -1.67695335e-01,\n",
       "        -1.63111174e-01,  1.93581850e-01,  3.25559010e-01,\n",
       "        -5.01326013e-02,  2.94861862e-01,  2.17971817e-01]])"
      ]
     },
     "execution_count": 39,
     "metadata": {},
     "output_type": "execute_result"
    }
   ],
   "source": [
    "centers = model.cluster_centers_\n",
    "centers"
   ]
  },
  {
   "cell_type": "code",
   "execution_count": 40,
   "metadata": {},
   "outputs": [],
   "source": [
    "# Function that creates a DataFrame with a column for Cluster Number\n",
    "\n",
    "def pd_centers(featuresUsed, centers):\n",
    "\tcolNames = list(featuresUsed)\n",
    "\tcolNames.append('prediction')\n",
    "\n",
    "\t# Zip with a column called 'prediction' (index)\n",
    "\tZ = [np.append(A, index) for index, A in enumerate(centers)]\n",
    "\n",
    "\t# Convert to pandas data frame for plotting\n",
    "\tP = pd.DataFrame(Z, columns=colNames)\n",
    "\tP['prediction'] = P['prediction'].astype(int)\n",
    "\treturn P"
   ]
  },
  {
   "cell_type": "code",
   "execution_count": 41,
   "metadata": {},
   "outputs": [],
   "source": [
    "# Function that creates Parallel Plots\n",
    "\n",
    "def parallel_plot(data):\n",
    "\tmy_colors = list(islice(cycle(['b', 'r', 'g', 'y', 'k']), None, len(data)))\n",
    "\tplt.figure(figsize=(15,8)).gca().axes.set_ylim([-3,+3])\n",
    "\tparallel_coordinates(data, 'prediction', color = my_colors, marker='o')"
   ]
  },
  {
   "cell_type": "code",
   "execution_count": 42,
   "metadata": {},
   "outputs": [
    {
     "data": {
      "text/html": [
       "<div>\n",
       "<style scoped>\n",
       "    .dataframe tbody tr th:only-of-type {\n",
       "        vertical-align: middle;\n",
       "    }\n",
       "\n",
       "    .dataframe tbody tr th {\n",
       "        vertical-align: top;\n",
       "    }\n",
       "\n",
       "    .dataframe thead th {\n",
       "        text-align: right;\n",
       "    }\n",
       "</style>\n",
       "<table border=\"1\" class=\"dataframe\">\n",
       "  <thead>\n",
       "    <tr style=\"text-align: right;\">\n",
       "      <th></th>\n",
       "      <th>gender</th>\n",
       "      <th>agegrp</th>\n",
       "      <th>ethn</th>\n",
       "      <th>edu</th>\n",
       "      <th>marital</th>\n",
       "      <th>hhincome</th>\n",
       "      <th>retired</th>\n",
       "      <th>prof</th>\n",
       "      <th>profspouse</th>\n",
       "      <th>currentstudent</th>\n",
       "      <th>finsatisfacton</th>\n",
       "      <th>willingrisk</th>\n",
       "      <th>savingchildedu</th>\n",
       "      <th>finconfdaytoday</th>\n",
       "      <th>fl</th>\n",
       "      <th>prediction</th>\n",
       "    </tr>\n",
       "  </thead>\n",
       "  <tbody>\n",
       "    <tr>\n",
       "      <th>0</th>\n",
       "      <td>0.194376</td>\n",
       "      <td>0.874204</td>\n",
       "      <td>-0.334353</td>\n",
       "      <td>-0.596219</td>\n",
       "      <td>-0.549198</td>\n",
       "      <td>-0.422055</td>\n",
       "      <td>-0.266818</td>\n",
       "      <td>0.948069</td>\n",
       "      <td>1.211735</td>\n",
       "      <td>-0.163111</td>\n",
       "      <td>-0.526707</td>\n",
       "      <td>-0.952829</td>\n",
       "      <td>-0.580733</td>\n",
       "      <td>0.152511</td>\n",
       "      <td>-0.169094</td>\n",
       "      <td>0</td>\n",
       "    </tr>\n",
       "    <tr>\n",
       "      <th>1</th>\n",
       "      <td>-0.174609</td>\n",
       "      <td>-0.105656</td>\n",
       "      <td>-0.547200</td>\n",
       "      <td>1.318889</td>\n",
       "      <td>-0.298055</td>\n",
       "      <td>0.640269</td>\n",
       "      <td>-0.211110</td>\n",
       "      <td>-0.623750</td>\n",
       "      <td>-0.220596</td>\n",
       "      <td>-0.158050</td>\n",
       "      <td>0.334509</td>\n",
       "      <td>0.368175</td>\n",
       "      <td>0.019798</td>\n",
       "      <td>0.262825</td>\n",
       "      <td>0.737541</td>\n",
       "      <td>1</td>\n",
       "    </tr>\n",
       "    <tr>\n",
       "      <th>2</th>\n",
       "      <td>-0.057000</td>\n",
       "      <td>-1.288898</td>\n",
       "      <td>0.649710</td>\n",
       "      <td>0.531202</td>\n",
       "      <td>0.045089</td>\n",
       "      <td>-0.439077</td>\n",
       "      <td>-0.042179</td>\n",
       "      <td>-0.366778</td>\n",
       "      <td>-0.555149</td>\n",
       "      <td>5.042896</td>\n",
       "      <td>0.473884</td>\n",
       "      <td>0.755910</td>\n",
       "      <td>0.081966</td>\n",
       "      <td>-0.053575</td>\n",
       "      <td>-0.977401</td>\n",
       "      <td>2</td>\n",
       "    </tr>\n",
       "    <tr>\n",
       "      <th>3</th>\n",
       "      <td>0.391200</td>\n",
       "      <td>0.828667</td>\n",
       "      <td>-0.222901</td>\n",
       "      <td>-0.123715</td>\n",
       "      <td>2.154201</td>\n",
       "      <td>-0.716885</td>\n",
       "      <td>-0.238556</td>\n",
       "      <td>0.677121</td>\n",
       "      <td>-0.870389</td>\n",
       "      <td>-0.160172</td>\n",
       "      <td>-0.148711</td>\n",
       "      <td>-0.447566</td>\n",
       "      <td>-0.479958</td>\n",
       "      <td>0.236751</td>\n",
       "      <td>0.028095</td>\n",
       "      <td>3</td>\n",
       "    </tr>\n",
       "    <tr>\n",
       "      <th>4</th>\n",
       "      <td>-0.647799</td>\n",
       "      <td>0.715800</td>\n",
       "      <td>-0.149329</td>\n",
       "      <td>0.988837</td>\n",
       "      <td>-0.093073</td>\n",
       "      <td>0.146839</td>\n",
       "      <td>3.813872</td>\n",
       "      <td>0.504555</td>\n",
       "      <td>0.457845</td>\n",
       "      <td>-0.135941</td>\n",
       "      <td>0.335589</td>\n",
       "      <td>0.010202</td>\n",
       "      <td>-0.271876</td>\n",
       "      <td>0.245025</td>\n",
       "      <td>0.458825</td>\n",
       "      <td>4</td>\n",
       "    </tr>\n",
       "    <tr>\n",
       "      <th>5</th>\n",
       "      <td>0.000662</td>\n",
       "      <td>1.093724</td>\n",
       "      <td>-0.379001</td>\n",
       "      <td>0.288132</td>\n",
       "      <td>-0.567621</td>\n",
       "      <td>0.485905</td>\n",
       "      <td>-0.170785</td>\n",
       "      <td>1.361465</td>\n",
       "      <td>1.582585</td>\n",
       "      <td>-0.163111</td>\n",
       "      <td>0.835106</td>\n",
       "      <td>0.020165</td>\n",
       "      <td>-0.559692</td>\n",
       "      <td>0.450061</td>\n",
       "      <td>0.518660</td>\n",
       "      <td>5</td>\n",
       "    </tr>\n",
       "    <tr>\n",
       "      <th>6</th>\n",
       "      <td>0.091453</td>\n",
       "      <td>-0.270300</td>\n",
       "      <td>0.072229</td>\n",
       "      <td>-0.416547</td>\n",
       "      <td>0.026795</td>\n",
       "      <td>-0.257559</td>\n",
       "      <td>-0.237421</td>\n",
       "      <td>-0.136512</td>\n",
       "      <td>-0.175099</td>\n",
       "      <td>-0.146470</td>\n",
       "      <td>-0.568952</td>\n",
       "      <td>-0.223069</td>\n",
       "      <td>0.129228</td>\n",
       "      <td>-2.932800</td>\n",
       "      <td>-0.361620</td>\n",
       "      <td>6</td>\n",
       "    </tr>\n",
       "    <tr>\n",
       "      <th>7</th>\n",
       "      <td>-0.043354</td>\n",
       "      <td>-0.401325</td>\n",
       "      <td>1.827486</td>\n",
       "      <td>0.158901</td>\n",
       "      <td>-0.179954</td>\n",
       "      <td>0.434357</td>\n",
       "      <td>-0.230270</td>\n",
       "      <td>-0.591164</td>\n",
       "      <td>-0.276675</td>\n",
       "      <td>-0.163111</td>\n",
       "      <td>0.152985</td>\n",
       "      <td>0.380209</td>\n",
       "      <td>0.138296</td>\n",
       "      <td>0.171991</td>\n",
       "      <td>0.260638</td>\n",
       "      <td>7</td>\n",
       "    </tr>\n",
       "    <tr>\n",
       "      <th>8</th>\n",
       "      <td>-0.035747</td>\n",
       "      <td>-0.971775</td>\n",
       "      <td>0.213960</td>\n",
       "      <td>-0.490849</td>\n",
       "      <td>0.266743</td>\n",
       "      <td>-1.275475</td>\n",
       "      <td>-0.272098</td>\n",
       "      <td>-0.079040</td>\n",
       "      <td>-0.743819</td>\n",
       "      <td>-0.160641</td>\n",
       "      <td>-0.904322</td>\n",
       "      <td>-0.435959</td>\n",
       "      <td>-0.636536</td>\n",
       "      <td>-0.207510</td>\n",
       "      <td>-0.361837</td>\n",
       "      <td>8</td>\n",
       "    </tr>\n",
       "    <tr>\n",
       "      <th>9</th>\n",
       "      <td>0.053879</td>\n",
       "      <td>-1.013574</td>\n",
       "      <td>0.558692</td>\n",
       "      <td>0.252122</td>\n",
       "      <td>-0.154845</td>\n",
       "      <td>-0.174248</td>\n",
       "      <td>-0.170875</td>\n",
       "      <td>-0.491990</td>\n",
       "      <td>-0.372716</td>\n",
       "      <td>-0.163111</td>\n",
       "      <td>0.858684</td>\n",
       "      <td>1.039360</td>\n",
       "      <td>0.392165</td>\n",
       "      <td>0.019735</td>\n",
       "      <td>-1.881187</td>\n",
       "      <td>9</td>\n",
       "    </tr>\n",
       "    <tr>\n",
       "      <th>10</th>\n",
       "      <td>0.402043</td>\n",
       "      <td>-0.468986</td>\n",
       "      <td>-0.028701</td>\n",
       "      <td>-0.486400</td>\n",
       "      <td>-0.172313</td>\n",
       "      <td>-0.341863</td>\n",
       "      <td>-0.267534</td>\n",
       "      <td>-0.300524</td>\n",
       "      <td>-0.068891</td>\n",
       "      <td>-0.157369</td>\n",
       "      <td>-0.931048</td>\n",
       "      <td>-0.499177</td>\n",
       "      <td>1.703177</td>\n",
       "      <td>-0.124622</td>\n",
       "      <td>-0.255462</td>\n",
       "      <td>10</td>\n",
       "    </tr>\n",
       "    <tr>\n",
       "      <th>11</th>\n",
       "      <td>-0.244264</td>\n",
       "      <td>-0.089254</td>\n",
       "      <td>-0.547200</td>\n",
       "      <td>-0.800716</td>\n",
       "      <td>-0.391700</td>\n",
       "      <td>0.695989</td>\n",
       "      <td>-0.275295</td>\n",
       "      <td>-0.638324</td>\n",
       "      <td>-0.167695</td>\n",
       "      <td>-0.163111</td>\n",
       "      <td>0.193582</td>\n",
       "      <td>0.325559</td>\n",
       "      <td>-0.050133</td>\n",
       "      <td>0.294862</td>\n",
       "      <td>0.217972</td>\n",
       "      <td>11</td>\n",
       "    </tr>\n",
       "  </tbody>\n",
       "</table>\n",
       "</div>"
      ],
      "text/plain": [
       "      gender    agegrp      ethn       edu   marital  hhincome   retired  \\\n",
       "0   0.194376  0.874204 -0.334353 -0.596219 -0.549198 -0.422055 -0.266818   \n",
       "1  -0.174609 -0.105656 -0.547200  1.318889 -0.298055  0.640269 -0.211110   \n",
       "2  -0.057000 -1.288898  0.649710  0.531202  0.045089 -0.439077 -0.042179   \n",
       "3   0.391200  0.828667 -0.222901 -0.123715  2.154201 -0.716885 -0.238556   \n",
       "4  -0.647799  0.715800 -0.149329  0.988837 -0.093073  0.146839  3.813872   \n",
       "5   0.000662  1.093724 -0.379001  0.288132 -0.567621  0.485905 -0.170785   \n",
       "6   0.091453 -0.270300  0.072229 -0.416547  0.026795 -0.257559 -0.237421   \n",
       "7  -0.043354 -0.401325  1.827486  0.158901 -0.179954  0.434357 -0.230270   \n",
       "8  -0.035747 -0.971775  0.213960 -0.490849  0.266743 -1.275475 -0.272098   \n",
       "9   0.053879 -1.013574  0.558692  0.252122 -0.154845 -0.174248 -0.170875   \n",
       "10  0.402043 -0.468986 -0.028701 -0.486400 -0.172313 -0.341863 -0.267534   \n",
       "11 -0.244264 -0.089254 -0.547200 -0.800716 -0.391700  0.695989 -0.275295   \n",
       "\n",
       "        prof  profspouse  currentstudent  finsatisfacton  willingrisk  \\\n",
       "0   0.948069    1.211735       -0.163111       -0.526707    -0.952829   \n",
       "1  -0.623750   -0.220596       -0.158050        0.334509     0.368175   \n",
       "2  -0.366778   -0.555149        5.042896        0.473884     0.755910   \n",
       "3   0.677121   -0.870389       -0.160172       -0.148711    -0.447566   \n",
       "4   0.504555    0.457845       -0.135941        0.335589     0.010202   \n",
       "5   1.361465    1.582585       -0.163111        0.835106     0.020165   \n",
       "6  -0.136512   -0.175099       -0.146470       -0.568952    -0.223069   \n",
       "7  -0.591164   -0.276675       -0.163111        0.152985     0.380209   \n",
       "8  -0.079040   -0.743819       -0.160641       -0.904322    -0.435959   \n",
       "9  -0.491990   -0.372716       -0.163111        0.858684     1.039360   \n",
       "10 -0.300524   -0.068891       -0.157369       -0.931048    -0.499177   \n",
       "11 -0.638324   -0.167695       -0.163111        0.193582     0.325559   \n",
       "\n",
       "    savingchildedu  finconfdaytoday        fl  prediction  \n",
       "0        -0.580733         0.152511 -0.169094           0  \n",
       "1         0.019798         0.262825  0.737541           1  \n",
       "2         0.081966        -0.053575 -0.977401           2  \n",
       "3        -0.479958         0.236751  0.028095           3  \n",
       "4        -0.271876         0.245025  0.458825           4  \n",
       "5        -0.559692         0.450061  0.518660           5  \n",
       "6         0.129228        -2.932800 -0.361620           6  \n",
       "7         0.138296         0.171991  0.260638           7  \n",
       "8        -0.636536        -0.207510 -0.361837           8  \n",
       "9         0.392165         0.019735 -1.881187           9  \n",
       "10        1.703177        -0.124622 -0.255462          10  \n",
       "11       -0.050133         0.294862  0.217972          11  "
      ]
     },
     "execution_count": 42,
     "metadata": {},
     "output_type": "execute_result"
    }
   ],
   "source": [
    "P = pd_centers(Features, centers)\n",
    "P"
   ]
  },
  {
   "cell_type": "code",
   "execution_count": 83,
   "metadata": {},
   "outputs": [
    {
     "data": {
      "image/png": "[encoded data removed]",
      "text/plain": [
       "<Figure size 1080x576 with 1 Axes>"
      ]
     },
     "metadata": {
      "needs_background": "light"
     },
     "output_type": "display_data"
    }
   ],
   "source": [
    "parallel_plot(P[P['fl'] < 0.4])\n",
    "#parallel_plot(P[(P['fl'] > 0.5) & (df3['prof'] > 0.4)])\n"
   ]
  },
  {
   "cell_type": "markdown",
   "metadata": {},
   "source": [
    "## Ploting Confusion Matrix"
   ]
  },
  {
   "cell_type": "code",
   "execution_count": 51,
   "metadata": {},
   "outputs": [
    {
     "name": "stdout",
     "output_type": "stream",
     "text": [
      "[[2910  341]\n",
      " [  59 4003]]\n"
     ]
    }
   ],
   "source": [
    "#function imported from the course\n",
    "from sklearn.metrics import classification_report, confusion_matrix\n",
    "import itertools\n",
    "def plot_confusion_matrix(cm, classes,\n",
    "                          normalize=False,\n",
    "                          title='Confusion matrix',\n",
    "                          cmap=plt.cm.Blues):\n",
    "    \"\"\"\n",
    "    This function prints and plots the confusion matrix.\n",
    "    Normalization can be applied by setting `normalize=True`.\n",
    "    \"\"\"\n",
    "    if normalize:\n",
    "        cm = cm.astype('float') / cm.sum(axis=1)[:, np.newaxis]\n",
    "        print(\"Normalized confusion matrix\")\n",
    "    else:\n",
    "        print('Confusion matrix, without normalization')\n",
    "\n",
    "    print(cm)\n",
    "\n",
    "    plt.imshow(cm, interpolation='nearest', cmap=cmap)\n",
    "    plt.title(title)\n",
    "    plt.colorbar()\n",
    "    tick_marks = np.arange(len(classes))\n",
    "    plt.xticks(tick_marks, classes, rotation=45)\n",
    "    plt.yticks(tick_marks, classes)\n",
    "\n",
    "    fmt = '.2f' if normalize else 'd'\n",
    "    thresh = cm.max() / 2.\n",
    "    for i, j in itertools.product(range(cm.shape[0]), range(cm.shape[1])):\n",
    "        plt.text(j, i, format(cm[i, j], fmt),\n",
    "                 horizontalalignment=\"center\",\n",
    "                 color=\"white\" if cm[i, j] > thresh else \"black\")\n",
    "\n",
    "    plt.tight_layout()\n",
    "    plt.ylabel('True label')\n",
    "    plt.xlabel('Predicted label')\n",
    "print(confusion_matrix(y_test, yhat, labels=[1,0]))"
   ]
  },
  {
   "cell_type": "code",
   "execution_count": 52,
   "metadata": {},
   "outputs": [
    {
     "name": "stdout",
     "output_type": "stream",
     "text": [
      "Confusion matrix, without normalization\n",
      "[[2910  341]\n",
      " [  59 4003]]\n"
     ]
    },
    {
     "data": {
      "image/png": "[encoded data removed]",
      "text/plain": [
       "<Figure size 432x288 with 2 Axes>"
      ]
     },
     "metadata": {
      "needs_background": "light"
     },
     "output_type": "display_data"
    }
   ],
   "source": [
    "# Compute confusion matrix\n",
    "cnf_matrix = confusion_matrix(y_test, yhat, labels=[1,0])\n",
    "np.set_printoptions(precision=2)\n",
    "\n",
    "\n",
    "# Plot non-normalized confusion matrix\n",
    "plt.figure()\n",
    "plot_confusion_matrix(cnf_matrix, classes=['credit_bin=1','credit_bin=0'],normalize= False,  title='Confusion matrix')"
   ]
  },
  {
   "cell_type": "markdown",
   "metadata": {},
   "source": [
    "## Doing Neural Network Analysis to predict credit card behavior ( Deep Learning)"
   ]
  },
  {
   "cell_type": "code",
   "execution_count": 53,
   "metadata": {},
   "outputs": [],
   "source": [
    "# Import Scikit-Learn model\n",
    "from sklearn.neural_network import MLPClassifier"
   ]
  },
  {
   "cell_type": "code",
   "execution_count": 55,
   "metadata": {},
   "outputs": [],
   "source": [
    "#Setup\n",
    "import warnings\n",
    "warnings.filterwarnings(\"ignore\")\n",
    "import matplotlib.pyplot as plt\n",
    "import seaborn as sns\n",
    "from sklearn.model_selection import train_test_split\n",
    "from sklearn.preprocessing import StandardScaler\n",
    "from sklearn.metrics import confusion_matrix, precision_recall_curve, roc_auc_score, roc_curve, accuracy_score\n",
    "from sklearn.ensemble import RandomForestClassifier"
   ]
  },
  {
   "cell_type": "code",
   "execution_count": 56,
   "metadata": {},
   "outputs": [],
   "source": [
    "## Import Keras objects for Deep Learning\n",
    "from keras.models  import Sequential\n",
    "from keras.layers import Input, Dense, Flatten, Dropout, BatchNormalization\n",
    "from keras.optimizers import Adam, SGD, RMSprop\n"
   ]
  },
  {
   "cell_type": "code",
   "execution_count": 57,
   "metadata": {},
   "outputs": [],
   "source": [
    "# Specify an activation function\n",
    "mlp = MLPClassifier(hidden_layer_sizes=(5,2), activation= 'logistic')"
   ]
  },
  {
   "cell_type": "code",
   "execution_count": 58,
   "metadata": {},
   "outputs": [],
   "source": [
    "X_train, X_test, y_train, y_test = train_test_split(X, y, test_size=0.25, random_state=11111)"
   ]
  },
  {
   "cell_type": "code",
   "execution_count": 59,
   "metadata": {},
   "outputs": [
    {
     "data": {
      "text/plain": [
       "array([1, 0, 0, ..., 0, 1, 1])"
      ]
     },
     "execution_count": 59,
     "metadata": {},
     "output_type": "execute_result"
    }
   ],
   "source": [
    "# Fit and predict data (similar to approach for other sklearn models)\n",
    "mlp.fit(X_train, y_train)\n",
    "mlp.predict(X_test)"
   ]
  },
  {
   "cell_type": "code",
   "execution_count": 60,
   "metadata": {},
   "outputs": [
    {
     "data": {
      "text/plain": [
       "(0.4473770581478037, 0.5526229418521963)"
      ]
     },
     "execution_count": 60,
     "metadata": {},
     "output_type": "execute_result"
    }
   ],
   "source": [
    "np.mean(y), np.mean(1-y)"
   ]
  },
  {
   "cell_type": "code",
   "execution_count": 61,
   "metadata": {},
   "outputs": [
    {
     "data": {
      "text/plain": [
       "RandomForestClassifier(n_estimators=200)"
      ]
     },
     "execution_count": 61,
     "metadata": {},
     "output_type": "execute_result"
    }
   ],
   "source": [
    "### BEGIN SOLUTION\n",
    "## Train the RF Model\n",
    "rf_model = RandomForestClassifier(n_estimators=200)\n",
    "rf_model.fit(X_train, y_train)"
   ]
  },
  {
   "cell_type": "code",
   "execution_count": 62,
   "metadata": {},
   "outputs": [
    {
     "name": "stdout",
     "output_type": "stream",
     "text": [
      "accuracy is 0.988\n",
      "roc-auc is 0.996\n"
     ]
    }
   ],
   "source": [
    "# Make predictions on the test set - both \"hard\" predictions, and the scores (percent of trees voting yes)\n",
    "y_pred_class_rf = rf_model.predict(X_test)\n",
    "y_pred_prob_rf = rf_model.predict_proba(X_test)\n",
    "\n",
    "\n",
    "print('accuracy is {:.3f}'.format(accuracy_score(y_test,y_pred_class_rf)))\n",
    "print('roc-auc is {:.3f}'.format(roc_auc_score(y_test,y_pred_prob_rf[:,1])))"
   ]
  },
  {
   "cell_type": "code",
   "execution_count": 63,
   "metadata": {},
   "outputs": [
    {
     "data": {
      "image/png": "[encoded data removed]",
      "text/plain": [
       "<Figure size 576x576 with 1 Axes>"
      ]
     },
     "metadata": {
      "needs_background": "light"
     },
     "output_type": "display_data"
    }
   ],
   "source": [
    "def plot_roc(y_test, y_pred, model_name):\n",
    "    fpr, tpr, thr = roc_curve(y_test, y_pred)\n",
    "    fig, ax = plt.subplots(figsize=(8, 8))\n",
    "    ax.plot(fpr, tpr, 'k-')\n",
    "    ax.plot([0, 1], [0, 1], 'k--', linewidth=.5)  # roc curve for random model\n",
    "    ax.grid(True)\n",
    "    ax.set(title='ROC Curve for {} on Credit card behavior'.format(model_name),\n",
    "           xlim=[-0.01, 1.01], ylim=[-0.01, 1.01])\n",
    "plot_roc(y_test, y_pred_prob_rf[:, 1], 'RF')\n",
    "### END SOLUTION"
   ]
  },
  {
   "cell_type": "code",
   "execution_count": 64,
   "metadata": {},
   "outputs": [],
   "source": [
    "## First let's normalize the data\n",
    "## This aids the training of neural nets by providing numerical stability\n",
    "## Random Forest does not need this as it finds a split only, as opposed to performing matrix multiplications\n",
    "\n",
    "normalizer = StandardScaler()\n",
    "X_train_norm = normalizer.fit_transform(X_train)\n",
    "X_test_norm = normalizer.transform(X_test)"
   ]
  },
  {
   "cell_type": "code",
   "execution_count": 65,
   "metadata": {},
   "outputs": [],
   "source": [
    "# Define the Model \n",
    "# Input size is 8-dimensional\n",
    "# 1 hidden layer, 12 hidden nodes, sigmoid activation\n",
    "# Final layer has just one node with a sigmoid activation (standard for binary classification)\n",
    "from keras.models import Sequential\n",
    "\n",
    "model_1 = Sequential()\n",
    "model_1.add(Dense(12,input_shape = (8,),activation = 'sigmoid'))\n",
    "model_1.add(Dense(1,activation='sigmoid'))"
   ]
  },
  {
   "cell_type": "code",
   "execution_count": 40,
   "metadata": {},
   "outputs": [
    {
     "name": "stdout",
     "output_type": "stream",
     "text": [
      "Model: \"sequential\"\n",
      "_________________________________________________________________\n",
      "Layer (type)                 Output Shape              Param #   \n",
      "=================================================================\n",
      "dense (Dense)                (None, 12)                108       \n",
      "_________________________________________________________________\n",
      "dense_1 (Dense)              (None, 1)                 13        \n",
      "=================================================================\n",
      "Total params: 121\n",
      "Trainable params: 121\n",
      "Non-trainable params: 0\n",
      "_________________________________________________________________\n"
     ]
    }
   ],
   "source": [
    "model_1.summary()"
   ]
  },
  {
   "cell_type": "code",
   "execution_count": 69,
   "metadata": {},
   "outputs": [],
   "source": [
    "# Like we did for the Random Forest, we generate two kinds of predictions\n",
    "# One is a hard decision, the other is a probabilitistic score.\n",
    "\n",
    "#y_pred_class_nn_1 = model_1.predict_classes(X_test_norm)\n",
    "#y_pred_prob_nn_1 = model_1.predict(X_test_norm)"
   ]
  },
  {
   "cell_type": "code",
   "execution_count": null,
   "metadata": {},
   "outputs": [],
   "source": []
  },
  {
   "cell_type": "code",
   "execution_count": null,
   "metadata": {},
   "outputs": [],
   "source": []
  }
 ],
 "metadata": {
  "kernelspec": {
   "display_name": "Python 3.8.3 64-bit",
   "language": "python",
   "name": "python38364bitc570e726e62d4bce9d8172250984dd88"
  },
  "language_info": {
   "codemirror_mode": {
    "name": "ipython",
    "version": 3
   },
   "file_extension": ".py",
   "mimetype": "text/x-python",
   "name": "python",
   "nbconvert_exporter": "python",
   "pygments_lexer": "ipython3",
   "version": "3.8.5"
  }
 },
 "nbformat": 4,
 "nbformat_minor": 4
}
